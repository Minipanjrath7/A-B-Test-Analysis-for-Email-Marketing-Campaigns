{
 "cells": [
  {
   "cell_type": "markdown",
   "id": "68f1592e",
   "metadata": {},
   "source": [
    "### Introduction\n",
    "\n",
    "\n",
    "This case study examines the outcomes of an A/B test conducted using a sample data to evaluate the effectiveness of an email marketing campaign for a fictional subscription-based company. **The goal is to measure the Lift (percentage increase or decrease) in conversion rates of the B-variant (personalized emails) compared to the A-variant (baseline boilerplate emails)**."
   ]
  },
  {
   "cell_type": "markdown",
   "id": "c028ae10",
   "metadata": {},
   "source": [
    "### Problem Definition\n",
    "The marketing team gathered data from January 1st to January 31st to analyze the performance of two email variants:\n",
    "\n",
    "    * A-variant (control): Standard / default marketing email.\n",
    "    * B-variant (personalized): Email tailored to users' usage statistics and interactions with the product.\n",
    "    \n",
    "The objective is to calculate the lift in conversion rates across different population segments (language and age group) and evaluate statistical significance to make actionable recommendations."
   ]
  },
  {
   "cell_type": "markdown",
   "id": "646b7f64",
   "metadata": {},
   "source": [
    "### Hypothesis:\n",
    "Personalized email marketing (B-variant) will lead to higher subscriber conversions compared to regular marketing emails (A-variant)."
   ]
  },
  {
   "cell_type": "markdown",
   "id": "bf9ff545",
   "metadata": {},
   "source": [
    "### Findings:\n",
    "\n",
    "Language Segmentation:\n",
    "\n",
    "* Spanish users: **166% increase** in conversion rate.\n",
    "* English users: **39% increase** in conversion rate.\n",
    "* Arabic and German users: No statistically significant results.\n",
    "\n",
    "Age Group Segmentation:\n",
    "* 0–18 years  :  **121%**  increase\n",
    "* 19–24 years :  **106.24%** increase\n",
    "* 24–30 years :  **161%** increase\n",
    "* 30–36 years :  **-100%** decrease\n",
    "* 36–45 years :  **-85%** decrease\n",
    "* 45–55 years :  **-72%** decrease\n",
    "* 55+ years   :  **-100%** decrease"
   ]
  },
  {
   "cell_type": "markdown",
   "id": "c28bfb68",
   "metadata": {},
   "source": [
    "### Summary of Findings:\n",
    "\n",
    "> Statistically significant increases in conversion rates were observed for **Spanish and English** speakers who received the B-variant.\n",
    "> No statistically significant impact for Arabic and German speakers.\n",
    "> Conversion rates improved significantly for individuals in **age groups (0–30)**, while those in age groups (30–55+) experienced significant declines in performance with the B-variant.\n"
   ]
  },
  {
   "cell_type": "markdown",
   "id": "bf53b29d",
   "metadata": {},
   "source": [
    "### Final Recommendations\n",
    "\n",
    "_**Language Segmentation:**_\n",
    "> * Continue personalized email campaigns for Spanish and English speakers.\n",
    "> * Discontinue personalized campaigns for Arabic and German speakers due to lack of significant results.\n",
    "\n",
    "_**Age Group Segmentation:**_\n",
    "> * Focus on personalized campaigns for individuals in age groups (0–30 years) where effectiveness is high.\n",
    "> * Discontinue or maybe improvise further the personalized emails for individuals in age groups (30–55+ years) to improve conversions.\n",
    "\n",
    "_**Combined Targeting (Language + Age):**_\n",
    "> Target Spanish and English speakers in the 0–30 age group with personalized emails for maximum effectiveness."
   ]
  },
  {
   "cell_type": "markdown",
   "id": "7ead324a",
   "metadata": {},
   "source": [
    "### Statistical Analysis  **"
   ]
  },
  {
   "cell_type": "code",
   "execution_count": 22,
   "id": "ac46b8c9",
   "metadata": {},
   "outputs": [],
   "source": [
    "# Importing essential libraries:\n",
    "\n",
    "import numpy as np\n",
    "import pandas as pd \n",
    "import matplotlib.pyplot as plt\n",
    "import seaborn as sns\n",
    "import os\n",
    "import warnings \n",
    "warnings.filterwarnings('ignore')\n",
    "\n",
    "from scipy.stats import ttest_ind"
   ]
  },
  {
   "cell_type": "code",
   "execution_count": 23,
   "id": "5ccba2bf",
   "metadata": {},
   "outputs": [
    {
     "data": {
      "text/html": [
       "<div>\n",
       "<style scoped>\n",
       "    .dataframe tbody tr th:only-of-type {\n",
       "        vertical-align: middle;\n",
       "    }\n",
       "\n",
       "    .dataframe tbody tr th {\n",
       "        vertical-align: top;\n",
       "    }\n",
       "\n",
       "    .dataframe thead th {\n",
       "        text-align: right;\n",
       "    }\n",
       "</style>\n",
       "<table border=\"1\" class=\"dataframe\">\n",
       "  <thead>\n",
       "    <tr style=\"text-align: right;\">\n",
       "      <th></th>\n",
       "      <th>user_id</th>\n",
       "      <th>date_served</th>\n",
       "      <th>marketing_channel</th>\n",
       "      <th>variant</th>\n",
       "      <th>converted</th>\n",
       "      <th>language_displayed</th>\n",
       "      <th>language_preferred</th>\n",
       "      <th>age_group</th>\n",
       "      <th>date_subscribed</th>\n",
       "      <th>date_canceled</th>\n",
       "      <th>subscribing_channel</th>\n",
       "      <th>is_retained</th>\n",
       "    </tr>\n",
       "  </thead>\n",
       "  <tbody>\n",
       "    <tr>\n",
       "      <th>354</th>\n",
       "      <td>a100000526</td>\n",
       "      <td>2018-01-01</td>\n",
       "      <td>Email</td>\n",
       "      <td>personalization</td>\n",
       "      <td>True</td>\n",
       "      <td>Arabic</td>\n",
       "      <td>Arabic</td>\n",
       "      <td>0-18 years</td>\n",
       "      <td>2018-01-01</td>\n",
       "      <td>NaT</td>\n",
       "      <td>Email</td>\n",
       "      <td>True</td>\n",
       "    </tr>\n",
       "    <tr>\n",
       "      <th>358</th>\n",
       "      <td>a100000530</td>\n",
       "      <td>2018-01-05</td>\n",
       "      <td>Email</td>\n",
       "      <td>personalization</td>\n",
       "      <td>True</td>\n",
       "      <td>Arabic</td>\n",
       "      <td>Arabic</td>\n",
       "      <td>19-24 years</td>\n",
       "      <td>2018-01-05</td>\n",
       "      <td>NaT</td>\n",
       "      <td>Email</td>\n",
       "      <td>True</td>\n",
       "    </tr>\n",
       "    <tr>\n",
       "      <th>362</th>\n",
       "      <td>a100000534</td>\n",
       "      <td>2018-01-09</td>\n",
       "      <td>Email</td>\n",
       "      <td>personalization</td>\n",
       "      <td>False</td>\n",
       "      <td>English</td>\n",
       "      <td>English</td>\n",
       "      <td>45-55 years</td>\n",
       "      <td>2018-01-09</td>\n",
       "      <td>NaT</td>\n",
       "      <td>Email</td>\n",
       "      <td>True</td>\n",
       "    </tr>\n",
       "    <tr>\n",
       "      <th>366</th>\n",
       "      <td>a100000538</td>\n",
       "      <td>2018-01-13</td>\n",
       "      <td>Email</td>\n",
       "      <td>personalization</td>\n",
       "      <td>True</td>\n",
       "      <td>Arabic</td>\n",
       "      <td>Arabic</td>\n",
       "      <td>24-30 years</td>\n",
       "      <td>2018-01-13</td>\n",
       "      <td>2018-01-23</td>\n",
       "      <td>Email</td>\n",
       "      <td>False</td>\n",
       "    </tr>\n",
       "    <tr>\n",
       "      <th>370</th>\n",
       "      <td>a100000542</td>\n",
       "      <td>2018-01-17</td>\n",
       "      <td>Email</td>\n",
       "      <td>personalization</td>\n",
       "      <td>True</td>\n",
       "      <td>English</td>\n",
       "      <td>English</td>\n",
       "      <td>0-18 years</td>\n",
       "      <td>2018-01-17</td>\n",
       "      <td>2018-02-12</td>\n",
       "      <td>Email</td>\n",
       "      <td>False</td>\n",
       "    </tr>\n",
       "  </tbody>\n",
       "</table>\n",
       "</div>"
      ],
      "text/plain": [
       "        user_id date_served marketing_channel          variant converted  \\\n",
       "354  a100000526  2018-01-01             Email  personalization      True   \n",
       "358  a100000530  2018-01-05             Email  personalization      True   \n",
       "362  a100000534  2018-01-09             Email  personalization     False   \n",
       "366  a100000538  2018-01-13             Email  personalization      True   \n",
       "370  a100000542  2018-01-17             Email  personalization      True   \n",
       "\n",
       "    language_displayed language_preferred    age_group date_subscribed  \\\n",
       "354             Arabic             Arabic   0-18 years      2018-01-01   \n",
       "358             Arabic             Arabic  19-24 years      2018-01-05   \n",
       "362            English            English  45-55 years      2018-01-09   \n",
       "366             Arabic             Arabic  24-30 years      2018-01-13   \n",
       "370            English            English   0-18 years      2018-01-17   \n",
       "\n",
       "    date_canceled subscribing_channel is_retained  \n",
       "354           NaT               Email        True  \n",
       "358           NaT               Email        True  \n",
       "362           NaT               Email        True  \n",
       "366    2018-01-23               Email       False  \n",
       "370    2018-02-12               Email       False  "
      ]
     },
     "execution_count": 23,
     "metadata": {},
     "output_type": "execute_result"
    }
   ],
   "source": [
    "# Reading the data & isolating the rows where the channel is Email\n",
    "\n",
    "marketing = pd.read_csv('marketing.csv', parse_dates = ['date_served', 'date_subscribed', 'date_canceled'])\n",
    "email = marketing[marketing['marketing_channel'] == 'Email']\n",
    "\n",
    "email.head()"
   ]
  },
  {
   "cell_type": "markdown",
   "id": "db64b160",
   "metadata": {},
   "source": [
    "##### Answering some common questions relating to data:"
   ]
  },
  {
   "cell_type": "code",
   "execution_count": 24,
   "id": "65a8c1fb",
   "metadata": {},
   "outputs": [
    {
     "name": "stdout",
     "output_type": "stream",
     "text": [
      "2018-01-01 00:00:00 2018-01-31 00:00:00\n"
     ]
    }
   ],
   "source": [
    "# When was the A/B test run and for how long?\n",
    "print(marketing['date_served'].min(), marketing['date_served'].max())\n"
   ]
  },
  {
   "cell_type": "code",
   "execution_count": 95,
   "id": "6fba2cb8",
   "metadata": {},
   "outputs": [
    {
     "data": {
      "text/plain": [
       "553"
      ]
     },
     "execution_count": 95,
     "metadata": {},
     "output_type": "execute_result"
    }
   ],
   "source": [
    "# On how many users the A/B test was conducted?\n",
    "email['user_id'].nunique()"
   ]
  },
  {
   "cell_type": "code",
   "execution_count": 204,
   "id": "17d4ed78",
   "metadata": {},
   "outputs": [
    {
     "data": {
      "image/png": "[encoded data removed]",
      "text/plain": [
       "<Figure size 400x400 with 1 Axes>"
      ]
     },
     "metadata": {},
     "output_type": "display_data"
    }
   ],
   "source": [
    "# What is the variant distribution?  \n",
    "var_split = email.groupby(['variant'])['user_id'].agg([('count', 'nunique')]).reset_index()\n",
    "\n",
    "# personalization = 284, control = 270\n",
    "\n",
    "pl = sns.catplot(data = var_split, kind = 'bar', x = 'variant', y = 'count', height=4, aspect=1, width=0.6, palette = 'muted')\n",
    "pl.set(xlabel = 'Variants', ylabel = 'No. of participants')\n",
    "plt.show()"
   ]
  },
  {
   "cell_type": "code",
   "execution_count": 108,
   "id": "5b4a70c2",
   "metadata": {
    "scrolled": true
   },
   "outputs": [],
   "source": [
    "# Comparing the conversion_rate of both variants \n",
    "\n",
    "subscribers = email.groupby(['user_id', 'variant'])['converted'].max()\n",
    "\n",
    "subscribers_df = pd.DataFrame(subscribers.unstack(level = 1))\n",
    "\n",
    "control = subscribers_df['control'].dropna()\n",
    "\n",
    "personalization = subscribers_df['personalization'].dropna()\n"
   ]
  },
  {
   "cell_type": "code",
   "execution_count": 109,
   "id": "da9ff445",
   "metadata": {},
   "outputs": [
    {
     "name": "stdout",
     "output_type": "stream",
     "text": [
      "Control conversion rate: 0.2814814814814815\n",
      "Personalization conversion rate: 0.3908450704225352\n"
     ]
    }
   ],
   "source": [
    "print('Control conversion rate:', np.mean(control))\n",
    "print('Personalization conversion rate:', np.mean(personalization))"
   ]
  },
  {
   "cell_type": "markdown",
   "id": "c9e0050e",
   "metadata": {},
   "source": [
    "### Calculating Lift and Statistical Significance\n",
    "\n",
    "**Lift is the difference between the A and B conversion rates divided by B conversion rate. In this case it would be:**\n",
    "\n",
    "\\begin{equation*}\n",
    "\\text{Lift} = \\frac{\\text{Personalized conversion rate - Control conversion rate}}{\\text{Control conversion rate}}\n",
    "\\end{equation*}\n",
    "\n"
   ]
  },
  {
   "cell_type": "markdown",
   "id": "3f3d1447",
   "metadata": {},
   "source": [
    "##### Why are we calculating Lift? \n",
    "\n",
    "> **Lift is a crucial metric for A/B testing in email campaign analysis** because it measures the relative improvement (or decline) in performance when transitioning from one variant to another. Specifically, lift evaluates the impact of the \"B variant\" (personalized emails) compared to the \"A variant\" (baseline emails). \n",
    "\n",
    "Here's why we calculate lift in this context:\n",
    "\n",
    "1. **Quantifies Campaign Effectiveness**\n",
    "       \n",
    "       Provides a percentage-based comparison of conversion rates between the two email variants.\n",
    "\n",
    "2. **Validates Hypotheses**\n",
    "\n",
    "       In A/B testing, there is often a hypothesis that personalization will outperform a generic approach. Lift is used to validate this hypothesis. If the lift is positive, it means the personalized emails increased conversions. If negative, it indicates that the personalized approach was less effective.\n",
    "\n",
    "3. **Helps Stakeholders Make Data-Driven Decisions**\n",
    "     \n",
    "       By calculating lift, stakeholders can decide whether to implement the new strategy (B variant) across all users or \n",
    "       to refine it further.\n",
    "\n",
    "4. **Relative Performance Assessment**\n",
    "\n",
    "       Lift expresses the performance change in percentage terms, making small differences more interpretable.\n",
    "\n",
    "5. **Optimization for Future Campaigns**\n",
    "\n",
    "       Knowing the lift for specific segments (e.g., age groups, languages) allows for tailored campaigns that maximize ROI in future marketing efforts.\n",
    "\n",
    "6. **Statistical Validation**\n",
    "\n",
    "       Lift combined with statistical tests provides evidence that the observed changes are not due to random chance but \n",
    "       are statistically significant."
   ]
  },
  {
   "cell_type": "code",
   "execution_count": 104,
   "id": "6a1dc815",
   "metadata": {},
   "outputs": [
    {
     "name": "stdout",
     "output_type": "stream",
     "text": [
      "lift: 38.85%\n"
     ]
    }
   ],
   "source": [
    "# Calculating the mean conversion rate of control and personalization groups\n",
    "a_mean = np.mean(control)\n",
    "b_mean = np.mean(personalization)\n",
    "\n",
    "# Calculating the lift\n",
    "lift = (b_mean - a_mean) / a_mean\n",
    "\n",
    "print(\"Lift:\", str(round(lift*100,2)) + '%')"
   ]
  },
  {
   "cell_type": "markdown",
   "id": "af933551",
   "metadata": {},
   "source": [
    "**_Statistical significance is vital to understand if a test showed positive result by chance or if it's reflective of a true difference between variants_**"
   ]
  },
  {
   "cell_type": "code",
   "execution_count": 111,
   "id": "5daea837",
   "metadata": {},
   "outputs": [
    {
     "name": "stdout",
     "output_type": "stream",
     "text": [
      "TtestResult(statistic=-2.734329944750507, pvalue=0.006451487844694182, df=552.0)\n"
     ]
    }
   ],
   "source": [
    "t = ttest_ind(control, personalization)\n",
    "print(t)"
   ]
  },
  {
   "cell_type": "markdown",
   "id": "821ce6e5",
   "metadata": {},
   "source": [
    "_Given that p is 0.006, we can conclude that the results are statistically significant_"
   ]
  },
  {
   "cell_type": "markdown",
   "id": "c58628f6",
   "metadata": {},
   "source": [
    "### Building an A/B test segmentation function"
   ]
  },
  {
   "cell_type": "code",
   "execution_count": 218,
   "id": "90ca96fb",
   "metadata": {},
   "outputs": [],
   "source": [
    "def ab_seg_func(segment):\n",
    "    \n",
    "    # Looping through each subsegment of segment in marketing\n",
    "\n",
    "    for subsegment in np.unique(marketing[segment].values):\n",
    "        print(subsegment)\n",
    "        \n",
    "        email = marketing[(marketing['marketing_channel'] == 'Email') & (marketing[segment] == subsegment)]\n",
    "        \n",
    "        subscribers = email.groupby(['user_id', 'variant'])['converted'].max()\n",
    "        subscribers = pd.DataFrame(subscribers.unstack())\n",
    "        \n",
    "        control = subscribers['control'].dropna()\n",
    "        personalization = subscribers['personalization'].dropna()\n",
    "        \n",
    "        a_mean = np.mean(control)\n",
    "        b_mean = np.mean(personalization)\n",
    "        \n",
    "        lift = (b_mean - a_mean)/ a_mean\n",
    "        \n",
    "        control = pd.to_numeric(control, errors='coerce')\n",
    "        personalization = pd.to_numeric(personalization, errors='coerce')\n",
    "\n",
    "        print('Lift:', str(round(lift*100, 2)) + '%')\n",
    "        \n",
    "        # Performing t-test\n",
    "        t_test = ttest_ind(control, personalization)\n",
    "\n",
    "        # Defining a lambda function to format and print test results\n",
    "        t_result = lambda t: f'statistic: {t.statistic.round(4)}, p-value: {t.pvalue.round(5)}'\n",
    "\n",
    "        print(t_result(t_test), '\\n\\n')\n",
    "    "
   ]
  },
  {
   "cell_type": "markdown",
   "id": "9fa3c74f",
   "metadata": {},
   "source": [
    "##### A/B testing by language "
   ]
  },
  {
   "cell_type": "code",
   "execution_count": 219,
   "id": "7311ec90",
   "metadata": {},
   "outputs": [
    {
     "name": "stdout",
     "output_type": "stream",
     "text": [
      "Arabic\n",
      "Lift: 50.0%\n",
      "statistic: -0.5774, p-value: 0.57958 \n",
      "\n",
      "\n",
      "English\n",
      "Lift: 39.0%\n",
      "statistic: -2.2184, p-value: 0.02699 \n",
      "\n",
      "\n",
      "German\n",
      "Lift: -1.62%\n",
      "statistic: 0.191, p-value: 0.84944 \n",
      "\n",
      "\n",
      "Spanish\n",
      "Lift: 166.67%\n",
      "statistic: -2.357, p-value: 0.04016 \n",
      "\n",
      "\n"
     ]
    }
   ],
   "source": [
    "ab_seg_func('language_displayed')"
   ]
  },
  {
   "cell_type": "code",
   "execution_count": 221,
   "id": "3bc39eee",
   "metadata": {},
   "outputs": [
    {
     "data": {
      "image/png": "[encoded data removed]",
      "text/plain": [
       "<Figure size 400x400 with 1 Axes>"
      ]
     },
     "metadata": {},
     "output_type": "display_data"
    }
   ],
   "source": [
    "# Put information into list\n",
    "lang = {\n",
    "    'language': ['English', 'Spanish'],\n",
    "    'pct': [39, 166]} \n",
    "\n",
    "# Create df\n",
    "p_lang = pd.DataFrame(lang)\n",
    "\n",
    "# Create plot\n",
    "p2 = sns.catplot(data = p_lang, kind = 'bar', y = 'pct', x = 'language', palette = 'muted', height=4, aspect=1, width=0.6)\n",
    "p2.set(ylabel = 'Lift(%)', xlabel = 'Language')\n",
    "plt.show()"
   ]
  },
  {
   "cell_type": "markdown",
   "id": "5d06b188",
   "metadata": {},
   "source": [
    "##### A/B testing by age_group"
   ]
  },
  {
   "cell_type": "code",
   "execution_count": 158,
   "id": "126ae213",
   "metadata": {},
   "outputs": [
    {
     "name": "stdout",
     "output_type": "stream",
     "text": [
      "0-18 years\n",
      "Lift: 121.4%\n",
      "statistic: -2.966, p-value: 0.00387 \n",
      "\n",
      "\n",
      "19-24 years\n",
      "Lift: 106.24%\n",
      "statistic: -3.0318, p-value: 0.00306 \n",
      "\n",
      "\n",
      "24-30 years\n",
      "Lift: 161.19%\n",
      "statistic: -3.8615, p-value: 0.00019 \n",
      "\n",
      "\n",
      "30-36 years\n",
      "Lift: -100.0%\n",
      "statistic: 3.1859, p-value: 0.00232 \n",
      "\n",
      "\n",
      "36-45 years\n",
      "Lift: -85.23%\n",
      "statistic: 2.4318, p-value: 0.01798 \n",
      "\n",
      "\n",
      "45-55 years\n",
      "Lift: -72.22%\n",
      "statistic: 2.0655, p-value: 0.04306 \n",
      "\n",
      "\n",
      "55+ years\n",
      "Lift: -100.0%\n",
      "statistic: 3.3266, p-value: 0.00164 \n",
      "\n",
      "\n"
     ]
    }
   ],
   "source": [
    "ab_seg_func('age_group')"
   ]
  },
  {
   "cell_type": "code",
   "execution_count": 222,
   "id": "b383f50f",
   "metadata": {},
   "outputs": [
    {
     "data": {
      "image/png": "[encoded data removed]",
      "text/plain": [
       "<Figure size 560x400 with 1 Axes>"
      ]
     },
     "metadata": {},
     "output_type": "display_data"
    }
   ],
   "source": [
    "# Put information into list\n",
    "age_pct = {\n",
    "    'age_group': ['55+', '45-55', '36-45', '30-36', '24-30', '19-24', '0-18'],\n",
    "    'pct': [-100, -72, -85, -100, 161, 106, 121]}\n",
    "\n",
    "# Create df\n",
    "p_age = pd.DataFrame(age_pct)\n",
    "\n",
    "p_age['positive'] = np.where(p_age['pct']>0, 'yes', 'no')\n",
    "\n",
    "# Create plot\n",
    "colors = {'yes': 'lightgreen', 'no': 'brown'}\n",
    "p3 = sns.catplot(data = p_age, kind = 'bar', x = 'pct', y = 'age_group', hue = 'positive', palette = colors, \n",
    "                 height=4, aspect=1.4, width=1, legend = False)\n",
    "p3.set(xlabel = 'Lift(%)', ylabel = 'Age group')\n",
    "plt.show()"
   ]
  },
  {
   "cell_type": "code",
   "execution_count": 223,
   "id": "696c06e6",
   "metadata": {},
   "outputs": [],
   "source": []
  }
 ],
 "metadata": {
  "kernelspec": {
   "display_name": "Python 3 (ipykernel)",
   "language": "python",
   "name": "python3"
  },
  "language_info": {
   "codemirror_mode": {
    "name": "ipython",
    "version": 3
   },
   "file_extension": ".py",
   "mimetype": "text/x-python",
   "name": "python",
   "nbconvert_exporter": "python",
   "pygments_lexer": "ipython3",
   "version": "3.11.5"
  }
 },
 "nbformat": 4,
 "nbformat_minor": 5
}
